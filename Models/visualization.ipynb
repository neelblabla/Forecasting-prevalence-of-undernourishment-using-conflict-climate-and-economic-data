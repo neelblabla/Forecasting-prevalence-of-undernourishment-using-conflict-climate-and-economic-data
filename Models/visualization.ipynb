{
 "cells": [
  {
   "cell_type": "code",
   "execution_count": 1,
   "metadata": {},
   "outputs": [
    {
     "ename": "ModuleNotFoundError",
     "evalue": "No module named 'geopandas'",
     "output_type": "error",
     "traceback": [
      "\u001b[0;31m---------------------------------------------------------------------------\u001b[0m",
      "\u001b[0;31mModuleNotFoundError\u001b[0m                       Traceback (most recent call last)",
      "\u001b[0;32m/var/folders/sb/rscyryt53fs5t_zbvkxgpzjc0000gn/T/ipykernel_1774/3836784511.py\u001b[0m in \u001b[0;36m<module>\u001b[0;34m\u001b[0m\n\u001b[1;32m      1\u001b[0m \u001b[0;32mimport\u001b[0m \u001b[0mpandas\u001b[0m \u001b[0;32mas\u001b[0m \u001b[0mpd\u001b[0m\u001b[0;34m\u001b[0m\u001b[0;34m\u001b[0m\u001b[0m\n\u001b[0;32m----> 2\u001b[0;31m \u001b[0;32mimport\u001b[0m \u001b[0mgeopandas\u001b[0m\u001b[0;34m\u001b[0m\u001b[0;34m\u001b[0m\u001b[0m\n\u001b[0m\u001b[1;32m      3\u001b[0m \u001b[0;32mimport\u001b[0m \u001b[0mmatplotlib\u001b[0m\u001b[0;34m.\u001b[0m\u001b[0mpyplot\u001b[0m \u001b[0;32mas\u001b[0m \u001b[0mplt\u001b[0m\u001b[0;34m\u001b[0m\u001b[0;34m\u001b[0m\u001b[0m\n",
      "\u001b[0;31mModuleNotFoundError\u001b[0m: No module named 'geopandas'"
     ]
    }
   ],
   "source": [
    "import pandas as pd\n",
    "import geopandas\n",
    "import matplotlib.pyplot as plt"
   ]
  },
  {
   "cell_type": "code",
   "execution_count": null,
   "metadata": {},
   "outputs": [
    {
     "data": {
      "text/html": [
       "<div>\n",
       "<style scoped>\n",
       "    .dataframe tbody tr th:only-of-type {\n",
       "        vertical-align: middle;\n",
       "    }\n",
       "\n",
       "    .dataframe tbody tr th {\n",
       "        vertical-align: top;\n",
       "    }\n",
       "\n",
       "    .dataframe thead th {\n",
       "        text-align: right;\n",
       "    }\n",
       "</style>\n",
       "<table border=\"1\" class=\"dataframe\">\n",
       "  <thead>\n",
       "    <tr style=\"text-align: right;\">\n",
       "      <th></th>\n",
       "      <th>Area</th>\n",
       "      <th>Year</th>\n",
       "      <th>Real Undernourishment</th>\n",
       "      <th>Pred. Undernourishment</th>\n",
       "    </tr>\n",
       "  </thead>\n",
       "  <tbody>\n",
       "    <tr>\n",
       "      <th>0</th>\n",
       "      <td>Afghanistan</td>\n",
       "      <td>2019</td>\n",
       "      <td>29.8</td>\n",
       "      <td>23.805</td>\n",
       "    </tr>\n",
       "    <tr>\n",
       "      <th>1</th>\n",
       "      <td>Afghanistan</td>\n",
       "      <td>2018</td>\n",
       "      <td>26.9</td>\n",
       "      <td>23.976</td>\n",
       "    </tr>\n",
       "    <tr>\n",
       "      <th>2</th>\n",
       "      <td>Albania</td>\n",
       "      <td>2019</td>\n",
       "      <td>3.9</td>\n",
       "      <td>6.287</td>\n",
       "    </tr>\n",
       "    <tr>\n",
       "      <th>3</th>\n",
       "      <td>Albania</td>\n",
       "      <td>2018</td>\n",
       "      <td>4.3</td>\n",
       "      <td>5.838</td>\n",
       "    </tr>\n",
       "    <tr>\n",
       "      <th>4</th>\n",
       "      <td>Algeria</td>\n",
       "      <td>2019</td>\n",
       "      <td>0.0</td>\n",
       "      <td>3.552</td>\n",
       "    </tr>\n",
       "  </tbody>\n",
       "</table>\n",
       "</div>"
      ],
      "text/plain": [
       "          Area  Year  Real Undernourishment  Pred. Undernourishment\n",
       "0  Afghanistan  2019                   29.8                  23.805\n",
       "1  Afghanistan  2018                   26.9                  23.976\n",
       "2      Albania  2019                    3.9                   6.287\n",
       "3      Albania  2018                    4.3                   5.838\n",
       "4      Algeria  2019                    0.0                   3.552"
      ]
     },
     "execution_count": 225,
     "metadata": {},
     "output_type": "execute_result"
    }
   ],
   "source": [
    "# Import dataset\n",
    "df = pd.read_csv(\"../data/future_pred_result.csv\").drop(columns=\"Unnamed: 0\")\n",
    "df.head()"
   ]
  },
  {
   "cell_type": "code",
   "execution_count": null,
   "metadata": {},
   "outputs": [
    {
     "name": "stdout",
     "output_type": "stream",
     "text": [
      "         pop_est      continent                      name iso_a3  gdp_md_est                                           geometry\n",
      "0       889953.0        Oceania                      Fiji    FJI        5496  MULTIPOLYGON (((180.00000 -16.06713, 180.00000...\n",
      "1     58005463.0         Africa                  Tanzania    TZA       63177  POLYGON ((33.90371 -0.95000, 34.07262 -1.05982...\n",
      "2       603253.0         Africa                 W. Sahara    ESH         907  POLYGON ((-8.66559 27.65643, -8.66512 27.58948...\n",
      "3     37589262.0  North America                    Canada    CAN     1736425  MULTIPOLYGON (((-122.84000 49.00000, -122.9742...\n",
      "4    328239523.0  North America  United States of America    USA    21433226  MULTIPOLYGON (((-122.84000 49.00000, -120.0000...\n",
      "..           ...            ...                       ...    ...         ...                                                ...\n",
      "172    6944975.0         Europe                    Serbia    SRB       51475  POLYGON ((18.82982 45.90887, 18.82984 45.90888...\n",
      "173     622137.0         Europe                Montenegro    MNE        5542  POLYGON ((20.07070 42.58863, 19.80161 42.50009...\n",
      "174    1794248.0         Europe                    Kosovo    -99        7926  POLYGON ((20.59025 41.85541, 20.52295 42.21787...\n",
      "175    1394973.0  North America       Trinidad and Tobago    TTO       24269  POLYGON ((-61.68000 10.76000, -61.10500 10.890...\n",
      "176   11062113.0         Africa                  S. Sudan    SSD       11998  POLYGON ((30.83385 3.50917, 29.95350 4.17370, ...\n",
      "\n",
      "[177 rows x 6 columns]\n"
     ]
    }
   ],
   "source": [
    "# Import world map from geopandas dataset\n",
    "world = geopandas.read_file(geopandas.datasets.get_path('naturalearth_lowres'))\n",
    "\n",
    "pd.set_option(\"display.max_columns\", 10)\n",
    "pd.set_option(\"display.width\", 1000)\n",
    "\n",
    "print(world)\n"
   ]
  },
  {
   "cell_type": "code",
   "execution_count": null,
   "metadata": {},
   "outputs": [
    {
     "name": "stdout",
     "output_type": "stream",
     "text": [
      "<bound method NDFrame.head of                                    Area  Year  Real Undernourishment  Pred. Undernourishment\n",
      "1                           Afghanistan  2018                   26.9                  23.976\n",
      "3                               Albania  2018                    4.3                   5.838\n",
      "5                               Algeria  2018                    0.0                   7.926\n",
      "7                                Angola  2018                   17.9                  16.161\n",
      "9                             Argentina  2018                    3.5                   3.040\n",
      "..                                  ...   ...                    ...                     ...\n",
      "300                          Uzbekistan  2018                    0.0                   1.374\n",
      "303                             Vanuatu  2018                   12.4                  10.199\n",
      "305  Venezuela (Bolivarian Republic of)  2018                   24.9                   7.472\n",
      "306                            Viet Nam  2018                    6.2                   7.548\n",
      "308                               Yemen  2018                   42.8                  40.093\n",
      "\n",
      "[154 rows x 4 columns]>\n"
     ]
    }
   ],
   "source": [
    "df_2018 = df[df['Year'] == 2018]\n",
    "df_2019 = df[df['Year'] == 2019]\n",
    "print(df_2018.head())"
   ]
  },
  {
   "cell_type": "code",
   "execution_count": null,
   "metadata": {},
   "outputs": [
    {
     "name": "stdout",
     "output_type": "stream",
     "text": [
      "<class 'geopandas.geodataframe.GeoDataFrame'>\n",
      "Int64Index: 177 entries, 0 to 176\n",
      "Data columns (total 10 columns):\n",
      " #   Column                  Non-Null Count  Dtype   \n",
      "---  ------                  --------------  -----   \n",
      " 0   pop_est                 177 non-null    float64 \n",
      " 1   continent               177 non-null    object  \n",
      " 2   name                    177 non-null    object  \n",
      " 3   iso_a3                  177 non-null    object  \n",
      " 4   gdp_md_est              177 non-null    int64   \n",
      " 5   geometry                177 non-null    geometry\n",
      " 6   Area                    126 non-null    object  \n",
      " 7   Year                    126 non-null    float64 \n",
      " 8   Real Undernourishment   126 non-null    float64 \n",
      " 9   Pred. Undernourishment  126 non-null    float64 \n",
      "dtypes: float64(4), geometry(1), int64(1), object(4)\n",
      "memory usage: 15.2+ KB\n"
     ]
    }
   ],
   "source": [
    "# Merge our data with world geometry data\n",
    "combined_2018 = world.merge(df_2018, how='left', left_on='name', right_on='Area')\n",
    "combined_2018.dropna()\n",
    "combined_2019 = world.merge(df_2019, how='left', left_on='name', right_on='Area')\n",
    "combined_2019.dropna()\n",
    "\n",
    "combined_2018.to_csv(\"../data/combined_geo_data_2018.csv\")\n",
    "combined_2018.info()"
   ]
  },
  {
   "cell_type": "code",
   "execution_count": null,
   "metadata": {},
   "outputs": [
    {
     "data": {
      "text/plain": [
       "<folium.features.Choropleth at 0x1db30b32b80>"
      ]
     },
     "execution_count": 229,
     "metadata": {},
     "output_type": "execute_result"
    }
   ],
   "source": [
    "# Using folium to visualize data\n",
    "\n",
    "import folium\n",
    "from folium.plugins import StripePattern\n",
    "\n",
    "# Set the map and the start position\n",
    "pred_map_2018 = folium.Map(location=[16, 18], zoom_start=3)\n",
    "\n",
    "# Make the legend draggable STARTS from HERE\n",
    "from branca.element import Template, MacroElement\n",
    "\n",
    "template = \"\"\"\n",
    "{% macro html(this, kwargs) %}\n",
    "\n",
    "<!doctype html>\n",
    "<html lang=\"en\">\n",
    "<head>\n",
    "  <meta charset=\"utf-8\">\n",
    "  <meta name=\"viewport\" content=\"width=device-width, initial-scale=1\">\n",
    "  <title>jQuery UI Draggable - Default functionality</title>\n",
    "  <link rel=\"stylesheet\" href=\"//code.jquery.com/ui/1.12.1/themes/base/jquery-ui.css\">\n",
    "\n",
    "  <script src=\"https://code.jquery.com/jquery-1.12.4.js\"></script>\n",
    "  <script src=\"https://code.jquery.com/ui/1.12.1/jquery-ui.js\"></script>\n",
    "  \n",
    "  <script>\n",
    "  $( function() {\n",
    "    $( \"#maplegend\" ).draggable({\n",
    "                    start: function (event, ui) {\n",
    "                        $(this).css({\n",
    "                            right: \"auto\",\n",
    "                            top: \"auto\",\n",
    "                            bottom: \"auto\"\n",
    "                        });\n",
    "                    }\n",
    "                });\n",
    "});\n",
    "\n",
    "  </script>\n",
    "</head>\n",
    "<body>\n",
    "\n",
    " \n",
    "<div id='maplegend' class='maplegend' \n",
    "    style='position: absolute; z-index:9999; border:2px solid grey; background-color:rgba(255, 255, 255, 0.8);\n",
    "     border-radius:6px; padding: 10px; font-size:14px; right: 20px; bottom: 20px;'>\n",
    "     \n",
    "<div class='legend-title'>Legend (draggable!)</div>\n",
    "<div class='legend-scale'>\n",
    "  <ul class='legend-labels'>\n",
    "    <li><span style='background:repeating-linear-gradient(\n",
    "    45deg,\n",
    "    #ffffff,\n",
    "    #ffffff 3px,\n",
    "    #c5c5c5 3px,\n",
    "    #c5c5c5 6px);opacity:0.7;'></span>Country that has No data.</li>\n",
    "    \n",
    "  </ul>\n",
    "</div>\n",
    "</div>\n",
    " \n",
    "</body>\n",
    "</html>\n",
    "\n",
    "<style type='text/css'>\n",
    "  .maplegend .legend-title {\n",
    "    text-align: left;\n",
    "    margin-bottom: 5px;\n",
    "    font-weight: bold;\n",
    "    font-size: 90%;\n",
    "    }\n",
    "  .maplegend .legend-scale ul {\n",
    "    margin: 0;\n",
    "    margin-bottom: 5px;\n",
    "    padding: 0;\n",
    "    float: left;\n",
    "    list-style: none;\n",
    "    }\n",
    "  .maplegend .legend-scale ul li {\n",
    "    font-size: 80%;\n",
    "    list-style: none;\n",
    "    margin-left: 0;\n",
    "    line-height: 18px;\n",
    "    margin-bottom: 2px;\n",
    "    }\n",
    "  .maplegend ul.legend-labels li span {\n",
    "    display: block;\n",
    "    float: left;\n",
    "    height: 16px;\n",
    "    width: 30px;\n",
    "    margin-right: 5px;\n",
    "    margin-left: 0;\n",
    "    border: 1px solid #999;\n",
    "    }\n",
    "  .maplegend .legend-source {\n",
    "    font-size: 80%;\n",
    "    color: #777;\n",
    "    clear: both;\n",
    "    }\n",
    "  .maplegend a {\n",
    "    color: #777;\n",
    "    }\n",
    "</style>\n",
    "{% endmacro %}\"\"\"\n",
    "\n",
    "macro = MacroElement()\n",
    "macro._template = Template(template)\n",
    "\n",
    "pred_map_2018.get_root().add_child(macro) # Make the legend draggable ENDS HERE\n",
    "\n",
    "folium.Choropleth(\n",
    "    geo_data=combined_2018,\n",
    "    data=combined_2018,\n",
    "    columns=[\"Area\", \"Pred. Undernourishment\"],\n",
    "    key_on=\"feature.properties.name\",\n",
    "    fill_color=\"YlOrBr\",\n",
    "    fill_opacity=0.7,\n",
    "    line_color = \"black\",\n",
    "    line_opacity=0.5,\n",
    "    nan_fill_color = \"White\",\n",
    "    name='Undernourishment',\n",
    "    legend_name=\"Undernourishment Prediction 2018 (%)\",\n",
    "    smooth_factor=0,\n",
    "    Highlight= True,\n",
    "    show=True,\n",
    "    overlay=True,\n",
    "    reset=True,\n",
    ").add_to(pred_map_2018)\n"
   ]
  },
  {
   "cell_type": "code",
   "execution_count": 2,
   "metadata": {},
   "outputs": [
    {
     "ename": "NameError",
     "evalue": "name 'combined_2018' is not defined",
     "output_type": "error",
     "traceback": [
      "\u001b[0;31m---------------------------------------------------------------------------\u001b[0m",
      "\u001b[0;31mNameError\u001b[0m                                 Traceback (most recent call last)",
      "\u001b[0;32m/var/folders/sb/rscyryt53fs5t_zbvkxgpzjc0000gn/T/ipykernel_1774/1079967990.py\u001b[0m in \u001b[0;36m<module>\u001b[0;34m\u001b[0m\n\u001b[1;32m      1\u001b[0m \u001b[0;31m# Add stripes pattern to no data countries\u001b[0m\u001b[0;34m\u001b[0m\u001b[0;34m\u001b[0m\u001b[0m\n\u001b[1;32m      2\u001b[0m \u001b[0;34m\u001b[0m\u001b[0m\n\u001b[0;32m----> 3\u001b[0;31m \u001b[0mnans\u001b[0m \u001b[0;34m=\u001b[0m \u001b[0mcombined_2018\u001b[0m\u001b[0;34m[\u001b[0m\u001b[0mcombined_2018\u001b[0m\u001b[0;34m[\u001b[0m\u001b[0;34m\"Area\"\u001b[0m\u001b[0;34m]\u001b[0m\u001b[0;34m.\u001b[0m\u001b[0misnull\u001b[0m\u001b[0;34m(\u001b[0m\u001b[0;34m)\u001b[0m\u001b[0;34m]\u001b[0m\u001b[0;34m[\u001b[0m\u001b[0;34m'name'\u001b[0m\u001b[0;34m]\u001b[0m\u001b[0;34m.\u001b[0m\u001b[0mvalues\u001b[0m\u001b[0;34m\u001b[0m\u001b[0;34m\u001b[0m\u001b[0m\n\u001b[0m\u001b[1;32m      4\u001b[0m \u001b[0mgdf_nans\u001b[0m \u001b[0;34m=\u001b[0m \u001b[0mcombined_2018\u001b[0m\u001b[0;34m[\u001b[0m\u001b[0mcombined_2018\u001b[0m\u001b[0;34m[\u001b[0m\u001b[0;34m'name'\u001b[0m\u001b[0;34m]\u001b[0m\u001b[0;34m.\u001b[0m\u001b[0misin\u001b[0m\u001b[0;34m(\u001b[0m\u001b[0mnans\u001b[0m\u001b[0;34m)\u001b[0m\u001b[0;34m]\u001b[0m\u001b[0;34m\u001b[0m\u001b[0;34m\u001b[0m\u001b[0m\n\u001b[1;32m      5\u001b[0m \u001b[0msp\u001b[0m \u001b[0;34m=\u001b[0m \u001b[0mStripePattern\u001b[0m\u001b[0;34m(\u001b[0m\u001b[0mangle\u001b[0m\u001b[0;34m=\u001b[0m\u001b[0;36m45\u001b[0m\u001b[0;34m,\u001b[0m \u001b[0mcolor\u001b[0m\u001b[0;34m=\u001b[0m\u001b[0;34m'grey'\u001b[0m\u001b[0;34m,\u001b[0m \u001b[0mspace_color\u001b[0m\u001b[0;34m=\u001b[0m\u001b[0;34m'white'\u001b[0m\u001b[0;34m)\u001b[0m\u001b[0;34m\u001b[0m\u001b[0;34m\u001b[0m\u001b[0m\n",
      "\u001b[0;31mNameError\u001b[0m: name 'combined_2018' is not defined"
     ]
    }
   ],
   "source": [
    "# Add stripes pattern to no data countries\n",
    "\n",
    "nans = combined_2018[combined_2018[\"Area\"].isnull()]['name'].values\n",
    "gdf_nans = combined_2018[combined_2018['name'].isin(nans)]\n",
    "sp = StripePattern(angle=45, color='grey', space_color='white')\n",
    "sp.add_to(pred_map_2018)\n",
    "folium.features.GeoJson(name=\"No data\",data=gdf_nans, style_function=lambda x :{'fillPattern': sp},show=True).add_to(pred_map_2018)\n",
    "\n",
    "# Add a layer controller. \n",
    "folium.LayerControl(collapsed=False).add_to(pred_map_2018)\n",
    "\n",
    "# Add hover functionality.\n",
    "style_function = lambda x: {'fillColor': '#ffffff', \n",
    "                            'color':'#000000', \n",
    "                            'fillOpacity': 0.1, \n",
    "                            'weight': 0.1}\n",
    "highlight_function = lambda x: {'fillColor': '#000000', \n",
    "                                'color':'#000000', \n",
    "                                'fillOpacity': 0.50, \n",
    "                                'weight': 0.1}\n",
    "NIL = folium.features.GeoJson(\n",
    "    data = combined_2018,\n",
    "    style_function=style_function, \n",
    "    control=False,\n",
    "    highlight_function=highlight_function, \n",
    "    tooltip=folium.features.GeoJsonTooltip(\n",
    "        fields=['name','Pred. Undernourishment'],\n",
    "        aliases=['name','Pred. Undernourishment'],\n",
    "        style=(\"background-color: white; color: #333333; font-family: arial; font-size: 12px; padding: 10px;\") \n",
    "    )\n",
    ")\n",
    "pred_map_2018.add_child(NIL)\n",
    "pred_map_2018.keep_in_front(NIL)\n",
    "\n",
    "pred_map_2018"
   ]
  }
 ],
 "metadata": {
  "kernelspec": {
   "display_name": "Python 3.9.7 ('base')",
   "language": "python",
   "name": "python3"
  },
  "language_info": {
   "codemirror_mode": {
    "name": "ipython",
    "version": 3
   },
   "file_extension": ".py",
   "mimetype": "text/x-python",
   "name": "python",
   "nbconvert_exporter": "python",
   "pygments_lexer": "ipython3",
   "version": "3.9.7"
  },
  "orig_nbformat": 4,
  "vscode": {
   "interpreter": {
    "hash": "a322c5351b42b2f3c362c81cc5a34aa8242759b5218ce8bf44420f70b6af1b12"
   }
  }
 },
 "nbformat": 4,
 "nbformat_minor": 2
}
