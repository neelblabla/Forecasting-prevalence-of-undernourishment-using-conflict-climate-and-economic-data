{
 "cells": [
  {
   "cell_type": "code",
   "execution_count": 1,
   "metadata": {},
   "outputs": [],
   "source": [
    "#importing necessary libraries\n",
    "import ee\n",
    "import folium\n",
    "import geehydro\n",
    "import numpy as np\n",
    "import pandas as pd\n",
    "import IPython.display as disp"
   ]
  },
  {
   "cell_type": "code",
   "execution_count": 2,
   "metadata": {},
   "outputs": [
    {
     "data": {
      "text/html": [
       "<p>To authorize access needed by Earth Engine, open the following\n",
       "        URL in a web browser and follow the instructions:</p>\n",
       "        <p><a href=https://code.earthengine.google.com/client-auth?scopes=https%3A//www.googleapis.com/auth/earthengine%20https%3A//www.googleapis.com/auth/devstorage.full_control&request_id=CnTcSP2cX79_bgwelDpfXoaY1zMqiUiv3JjlcTWDd8k&tc=8YLwJbC-rLp61ICFh1BAPfawnSPAzPtxLqXFQsHVa60&cc=G6inJWUM8aQg_BeIlU5W6je0J9gDHo7DTU31R-eAkzQ>https://code.earthengine.google.com/client-auth?scopes=https%3A//www.googleapis.com/auth/earthengine%20https%3A//www.googleapis.com/auth/devstorage.full_control&request_id=CnTcSP2cX79_bgwelDpfXoaY1zMqiUiv3JjlcTWDd8k&tc=8YLwJbC-rLp61ICFh1BAPfawnSPAzPtxLqXFQsHVa60&cc=G6inJWUM8aQg_BeIlU5W6je0J9gDHo7DTU31R-eAkzQ</a></p>\n",
       "        <p>The authorization workflow will generate a code, which you should paste in the box below.</p>\n",
       "        "
      ],
      "text/plain": [
       "<IPython.core.display.HTML object>"
      ]
     },
     "metadata": {},
     "output_type": "display_data"
    },
    {
     "name": "stdout",
     "output_type": "stream",
     "text": [
      "\n",
      "Successfully saved authorization token.\n",
      "NASADEM: NASA NASADEM Digital Elevation 30m\n"
     ]
    }
   ],
   "source": [
    "#connecting to google earth engine API\n",
    "ee.Authenticate()\n",
    "ee.Initialize()\n",
    "print(ee.Image(\"NASA/NASADEM_HGT/001\").get(\"title\").getInfo()) #just a test if its working"
   ]
  },
  {
   "cell_type": "code",
   "execution_count": 3,
   "metadata": {},
   "outputs": [],
   "source": [
    "#function to collect the mean ndvi pixel values from the satellite per year per country\n",
    "def ndvi_collection(country, year):\n",
    "    location = ee.FeatureCollection(\"USDOS/LSIB_SIMPLE/2017\").filter(ee.Filter.eq(\"country_na\", str(country)))\n",
    "    dataset = ee.ImageCollection(\"NOAA/CDR/AVHRR/NDVI/V5\").select(\"NDVI\").filterDate(str(year)+\"-01-01\", str(year+1)+\"-01-01\")\n",
    "    \n",
    "    def setProperty(image):\n",
    "        dict = image.reduceRegion(ee.Reducer.mean(), location, maxPixels=1e9)\n",
    "        return image.set(dict)\n",
    "\n",
    "    pixel_values = dataset.map(setProperty)\n",
    "    aggregate_pixel_values = (pixel_values.aggregate_array(\"NDVI\").getInfo())\n",
    "    mean_pixel_value = np.mean(aggregate_pixel_values)\n",
    "\n",
    "    return mean_pixel_value"
   ]
  },
  {
   "cell_type": "code",
   "execution_count": 4,
   "metadata": {},
   "outputs": [],
   "source": [
    "#aggregating the values and saving to a list\n",
    "ndvi_values = []\n",
    "country_index = []\n",
    "time_index = []\n",
    "\n",
    "countries = [\"Taiwan\", \"India\", \"Germany\"] #add all countries of the original dataframe to this list\n",
    "i = 0\n",
    "while i < len(countries):\n",
    "    year = 1990\n",
    "    while year < 2014:\n",
    "        result = ndvi_collection(country = countries[i], year = year)\n",
    "        ndvi_values.append(result)\n",
    "        country_index.append(countries[i])\n",
    "        time_index.append(year)\n",
    "        year += 1\n",
    "    i += 1"
   ]
  },
  {
   "cell_type": "code",
   "execution_count": 5,
   "metadata": {},
   "outputs": [
    {
     "data": {
      "text/html": [
       "<div>\n",
       "<style scoped>\n",
       "    .dataframe tbody tr th:only-of-type {\n",
       "        vertical-align: middle;\n",
       "    }\n",
       "\n",
       "    .dataframe tbody tr th {\n",
       "        vertical-align: top;\n",
       "    }\n",
       "\n",
       "    .dataframe thead th {\n",
       "        text-align: right;\n",
       "    }\n",
       "</style>\n",
       "<table border=\"1\" class=\"dataframe\">\n",
       "  <thead>\n",
       "    <tr style=\"text-align: right;\">\n",
       "      <th></th>\n",
       "      <th>Country</th>\n",
       "      <th>Year</th>\n",
       "      <th>NDVI</th>\n",
       "    </tr>\n",
       "  </thead>\n",
       "  <tbody>\n",
       "    <tr>\n",
       "      <th>0</th>\n",
       "      <td>Taiwan</td>\n",
       "      <td>1990</td>\n",
       "      <td>1502.507333</td>\n",
       "    </tr>\n",
       "    <tr>\n",
       "      <th>1</th>\n",
       "      <td>Taiwan</td>\n",
       "      <td>1991</td>\n",
       "      <td>1475.033023</td>\n",
       "    </tr>\n",
       "    <tr>\n",
       "      <th>2</th>\n",
       "      <td>Taiwan</td>\n",
       "      <td>1992</td>\n",
       "      <td>1327.362254</td>\n",
       "    </tr>\n",
       "    <tr>\n",
       "      <th>3</th>\n",
       "      <td>Taiwan</td>\n",
       "      <td>1993</td>\n",
       "      <td>1395.165139</td>\n",
       "    </tr>\n",
       "    <tr>\n",
       "      <th>4</th>\n",
       "      <td>Taiwan</td>\n",
       "      <td>1994</td>\n",
       "      <td>1223.158209</td>\n",
       "    </tr>\n",
       "  </tbody>\n",
       "</table>\n",
       "</div>"
      ],
      "text/plain": [
       "  Country  Year         NDVI\n",
       "0  Taiwan  1990  1502.507333\n",
       "1  Taiwan  1991  1475.033023\n",
       "2  Taiwan  1992  1327.362254\n",
       "3  Taiwan  1993  1395.165139\n",
       "4  Taiwan  1994  1223.158209"
      ]
     },
     "execution_count": 5,
     "metadata": {},
     "output_type": "execute_result"
    }
   ],
   "source": [
    "#creating a dataframe with the values and corresponding years/countries\n",
    "df_ndvi = pd.DataFrame()\n",
    "df_ndvi[\"Country\"] = country_index\n",
    "df_ndvi[\"Year\"] = time_index\n",
    "df_ndvi[\"NDVI\"] = ndvi_values\n",
    "df_ndvi.to_csv(\"test_ndvi_df.csv\") #saving the dataframe as a csv file to merge it with the other data later on\n",
    "\n",
    "df_ndvi.head()"
   ]
  },
  {
   "cell_type": "code",
   "execution_count": 6,
   "metadata": {},
   "outputs": [
    {
     "data": {
      "text/html": [
       "<div>\n",
       "<style scoped>\n",
       "    .dataframe tbody tr th:only-of-type {\n",
       "        vertical-align: middle;\n",
       "    }\n",
       "\n",
       "    .dataframe tbody tr th {\n",
       "        vertical-align: top;\n",
       "    }\n",
       "\n",
       "    .dataframe thead th {\n",
       "        text-align: right;\n",
       "    }\n",
       "</style>\n",
       "<table border=\"1\" class=\"dataframe\">\n",
       "  <thead>\n",
       "    <tr style=\"text-align: right;\">\n",
       "      <th></th>\n",
       "      <th>Country</th>\n",
       "      <th>Year</th>\n",
       "      <th>NDVI</th>\n",
       "    </tr>\n",
       "  </thead>\n",
       "  <tbody>\n",
       "    <tr>\n",
       "      <th>67</th>\n",
       "      <td>Germany</td>\n",
       "      <td>2009</td>\n",
       "      <td>1705.260078</td>\n",
       "    </tr>\n",
       "    <tr>\n",
       "      <th>68</th>\n",
       "      <td>Germany</td>\n",
       "      <td>2010</td>\n",
       "      <td>1378.547684</td>\n",
       "    </tr>\n",
       "    <tr>\n",
       "      <th>69</th>\n",
       "      <td>Germany</td>\n",
       "      <td>2011</td>\n",
       "      <td>1974.492369</td>\n",
       "    </tr>\n",
       "    <tr>\n",
       "      <th>70</th>\n",
       "      <td>Germany</td>\n",
       "      <td>2012</td>\n",
       "      <td>1677.682480</td>\n",
       "    </tr>\n",
       "    <tr>\n",
       "      <th>71</th>\n",
       "      <td>Germany</td>\n",
       "      <td>2013</td>\n",
       "      <td>1492.167126</td>\n",
       "    </tr>\n",
       "  </tbody>\n",
       "</table>\n",
       "</div>"
      ],
      "text/plain": [
       "    Country  Year         NDVI\n",
       "67  Germany  2009  1705.260078\n",
       "68  Germany  2010  1378.547684\n",
       "69  Germany  2011  1974.492369\n",
       "70  Germany  2012  1677.682480\n",
       "71  Germany  2013  1492.167126"
      ]
     },
     "execution_count": 6,
     "metadata": {},
     "output_type": "execute_result"
    }
   ],
   "source": [
    "df_ndvi.tail()"
   ]
  },
  {
   "cell_type": "code",
   "execution_count": 7,
   "metadata": {},
   "outputs": [
    {
     "data": {
      "text/html": [
       "<div style=\"width:100%;\"><div style=\"position:relative;width:100%;height:0;padding-bottom:60%;\"><span style=\"color:#565656\">Make this Notebook Trusted to load map: File -> Trust Notebook</span><iframe srcdoc=\"&lt;!DOCTYPE html&gt;\n",
       "&lt;head&gt;    \n",
       "    &lt;meta http-equiv=&quot;content-type&quot; content=&quot;text/html; charset=UTF-8&quot; /&gt;\n",
       "    \n",
       "        &lt;script&gt;\n",
       "            L_NO_TOUCH = false;\n",
       "            L_DISABLE_3D = false;\n",
       "        &lt;/script&gt;\n",
       "    \n",
       "    &lt;style&gt;html, body {width: 100%;height: 100%;margin: 0;padding: 0;}&lt;/style&gt;\n",
       "    &lt;style&gt;#map {position:absolute;top:0;bottom:0;right:0;left:0;}&lt;/style&gt;\n",
       "    &lt;script src=&quot;https://cdn.jsdelivr.net/npm/leaflet@1.6.0/dist/leaflet.js&quot;&gt;&lt;/script&gt;\n",
       "    &lt;script src=&quot;https://code.jquery.com/jquery-1.12.4.min.js&quot;&gt;&lt;/script&gt;\n",
       "    &lt;script src=&quot;https://maxcdn.bootstrapcdn.com/bootstrap/3.2.0/js/bootstrap.min.js&quot;&gt;&lt;/script&gt;\n",
       "    &lt;script src=&quot;https://cdnjs.cloudflare.com/ajax/libs/Leaflet.awesome-markers/2.0.2/leaflet.awesome-markers.js&quot;&gt;&lt;/script&gt;\n",
       "    &lt;link rel=&quot;stylesheet&quot; href=&quot;https://cdn.jsdelivr.net/npm/leaflet@1.6.0/dist/leaflet.css&quot;/&gt;\n",
       "    &lt;link rel=&quot;stylesheet&quot; href=&quot;https://maxcdn.bootstrapcdn.com/bootstrap/3.2.0/css/bootstrap.min.css&quot;/&gt;\n",
       "    &lt;link rel=&quot;stylesheet&quot; href=&quot;https://maxcdn.bootstrapcdn.com/bootstrap/3.2.0/css/bootstrap-theme.min.css&quot;/&gt;\n",
       "    &lt;link rel=&quot;stylesheet&quot; href=&quot;https://maxcdn.bootstrapcdn.com/font-awesome/4.6.3/css/font-awesome.min.css&quot;/&gt;\n",
       "    &lt;link rel=&quot;stylesheet&quot; href=&quot;https://cdnjs.cloudflare.com/ajax/libs/Leaflet.awesome-markers/2.0.2/leaflet.awesome-markers.css&quot;/&gt;\n",
       "    &lt;link rel=&quot;stylesheet&quot; href=&quot;https://cdn.jsdelivr.net/gh/python-visualization/folium/folium/templates/leaflet.awesome.rotate.min.css&quot;/&gt;\n",
       "    \n",
       "            &lt;meta name=&quot;viewport&quot; content=&quot;width=device-width,\n",
       "                initial-scale=1.0, maximum-scale=1.0, user-scalable=no&quot; /&gt;\n",
       "            &lt;style&gt;\n",
       "                #map_f190993d513f750b21af50840779fc7f {\n",
       "                    position: relative;\n",
       "                    width: 100.0%;\n",
       "                    height: 100.0%;\n",
       "                    left: 0.0%;\n",
       "                    top: 0.0%;\n",
       "                }\n",
       "            &lt;/style&gt;\n",
       "        \n",
       "&lt;/head&gt;\n",
       "&lt;body&gt;    \n",
       "    \n",
       "            &lt;div class=&quot;folium-map&quot; id=&quot;map_f190993d513f750b21af50840779fc7f&quot; &gt;&lt;/div&gt;\n",
       "        \n",
       "&lt;/body&gt;\n",
       "&lt;script&gt;    \n",
       "    \n",
       "            var map_f190993d513f750b21af50840779fc7f = L.map(\n",
       "                &quot;map_f190993d513f750b21af50840779fc7f&quot;,\n",
       "                {\n",
       "                    center: [52.15, 10.33],\n",
       "                    crs: L.CRS.EPSG3857,\n",
       "                    zoom: 6,\n",
       "                    zoomControl: true,\n",
       "                    preferCanvas: false,\n",
       "                }\n",
       "            );\n",
       "\n",
       "            \n",
       "\n",
       "        \n",
       "    \n",
       "            var tile_layer_86e0de713cd21d802c5fce0691c47978 = L.tileLayer(\n",
       "                &quot;https://{s}.tile.openstreetmap.org/{z}/{x}/{y}.png&quot;,\n",
       "                {&quot;attribution&quot;: &quot;Data by \\u0026copy; \\u003ca href=\\&quot;http://openstreetmap.org\\&quot;\\u003eOpenStreetMap\\u003c/a\\u003e, under \\u003ca href=\\&quot;http://www.openstreetmap.org/copyright\\&quot;\\u003eODbL\\u003c/a\\u003e.&quot;, &quot;detectRetina&quot;: false, &quot;maxNativeZoom&quot;: 18, &quot;maxZoom&quot;: 18, &quot;minZoom&quot;: 0, &quot;noWrap&quot;: false, &quot;opacity&quot;: 1, &quot;subdomains&quot;: &quot;abc&quot;, &quot;tms&quot;: false}\n",
       "            ).addTo(map_f190993d513f750b21af50840779fc7f);\n",
       "        \n",
       "    \n",
       "            map_f190993d513f750b21af50840779fc7f.fitBounds(\n",
       "                [[51.165691, 10.451526], [51.165691, 10.451526]],\n",
       "                {&quot;maxZoom&quot;: 6}\n",
       "            );\n",
       "        \n",
       "    \n",
       "            var tile_layer_36492eac918b0786c71aaedabff7388d = L.tileLayer(\n",
       "                &quot;https://earthengine.googleapis.com/v1alpha/projects/earthengine-legacy/maps/f04bf8fd6edc28304b36e6c2e536f215-a63375e9a5b212ea4f6dd77b1ceaece7/tiles/{z}/{x}/{y}&quot;,\n",
       "                {&quot;attribution&quot;: &quot;Google Earth Engine&quot;, &quot;detectRetina&quot;: false, &quot;maxNativeZoom&quot;: 18, &quot;maxZoom&quot;: 18, &quot;minZoom&quot;: 0, &quot;noWrap&quot;: false, &quot;opacity&quot;: 1, &quot;subdomains&quot;: &quot;abc&quot;, &quot;tms&quot;: false}\n",
       "            ).addTo(map_f190993d513f750b21af50840779fc7f);\n",
       "        \n",
       "    \n",
       "            map_f190993d513f750b21af50840779fc7f.fitBounds(\n",
       "                [[23.747734992932106, 120.95456393909156], [23.747734992932106, 120.95456393909156]],\n",
       "                {&quot;maxZoom&quot;: 6}\n",
       "            );\n",
       "        \n",
       "    \n",
       "            var tile_layer_7f8df94af329c42b6104f7bf5f79aa48 = L.tileLayer(\n",
       "                &quot;https://earthengine.googleapis.com/v1alpha/projects/earthengine-legacy/maps/3e337cf6b420c5aec228fe3ca96430f7-c3b95dc5f303f8d89ffbd1cbcf601c24/tiles/{z}/{x}/{y}&quot;,\n",
       "                {&quot;attribution&quot;: &quot;Google Earth Engine&quot;, &quot;detectRetina&quot;: false, &quot;maxNativeZoom&quot;: 18, &quot;maxZoom&quot;: 18, &quot;minZoom&quot;: 0, &quot;noWrap&quot;: false, &quot;opacity&quot;: 1, &quot;subdomains&quot;: &quot;abc&quot;, &quot;tms&quot;: false}\n",
       "            ).addTo(map_f190993d513f750b21af50840779fc7f);\n",
       "        \n",
       "&lt;/script&gt;\" style=\"position:absolute;width:100%;height:100%;left:0;top:0;border:none !important;\" allowfullscreen webkitallowfullscreen mozallowfullscreen></iframe></div></div>"
      ],
      "text/plain": [
       "<folium.folium.Map at 0x20aa7bd3040>"
      ]
     },
     "execution_count": 7,
     "metadata": {},
     "output_type": "execute_result"
    }
   ],
   "source": [
    "#just a fun visualization of the data we collect in the function above - country and dates can be played with\n",
    "coords = [52.15, 10.33]  # [lat, long]\n",
    "Map = folium.Map(location=coords, zoom_start=6)\n",
    "\n",
    "worldmap = ee.FeatureCollection(\"USDOS/LSIB_SIMPLE/2017\")\n",
    "location_filter = ee.Filter.eq(\"country_na\",\"Taiwan\")\n",
    "country = worldmap.filter(location_filter)\n",
    "\n",
    "dataset = ee.ImageCollection(\"NOAA/CDR/AVHRR/NDVI/V5\")\n",
    "dataset = dataset.select(\"NDVI\")\n",
    "\n",
    "date_filter = ee.Filter.date(\"2010-01-01\", \"2011-01-01\")\n",
    "dataset = dataset.filter(date_filter)\n",
    "\n",
    "dataset = dataset.mean().clip(country)\n",
    "\n",
    "visualisation_params = {\n",
    "  \"min\": -1000,\n",
    "  \"max\": 5000,\n",
    "  \"palette\": [\"ffffff\", \"ce7e45\", \"fcd163\", \"c6ca02\", \"22cc04\", \"99b718\", \"207401\", \"012e01\"]\n",
    "}\n",
    "\n",
    "Map.setCenter(10.451526, 51.165691, 6)\n",
    "Map.addLayer(country)\n",
    "Map.centerObject(country, 6)\n",
    "Map.addLayer(dataset, visualisation_params, \"Default visualization\")\n",
    "Map"
   ]
  }
 ],
 "metadata": {
  "kernelspec": {
   "display_name": "Python 3.10.4 ('badass_daten_jungs')",
   "language": "python",
   "name": "python3"
  },
  "language_info": {
   "codemirror_mode": {
    "name": "ipython",
    "version": 3
   },
   "file_extension": ".py",
   "mimetype": "text/x-python",
   "name": "python",
   "nbconvert_exporter": "python",
   "pygments_lexer": "ipython3",
   "version": "3.10.4"
  },
  "orig_nbformat": 4,
  "vscode": {
   "interpreter": {
    "hash": "04b4966ba14cebf5fc76d0ebded7b40819f662999717cb10afed4f9bf0092b1e"
   }
  }
 },
 "nbformat": 4,
 "nbformat_minor": 2
}
