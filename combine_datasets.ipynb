{
 "cells": [
  {
   "cell_type": "code",
   "execution_count": 1,
   "metadata": {},
   "outputs": [],
   "source": [
    "import pandas as pd"
   ]
  },
  {
   "cell_type": "code",
   "execution_count": 2,
   "metadata": {},
   "outputs": [],
   "source": [
    "df_GDP = pd.read_csv(\"GDP_data.csv\")\n",
    "df_GNI = pd.read_csv(\"GNI_data.csv\")\n",
    "df_undernourishment = pd.read_csv(\"undernourishment_data.csv\")"
   ]
  },
  {
   "cell_type": "code",
   "execution_count": 3,
   "metadata": {},
   "outputs": [],
   "source": [
    "df_GDP = df_GDP.rename(columns={\"Value\": \"GDP (USD)\"})\n",
    "df_GDP = df_GDP.drop(columns=[\"Domain\", \"Element\", \"Item\"])\n",
    "\n",
    "df_GNI = df_GNI.rename(columns={\"Value\": \"GNI (USD)\"})\n",
    "df_GNI = df_GNI.drop(columns=[\"Domain\", \"Element\", \"Item\"])\n",
    "\n",
    "df_undernourishment = df_undernourishment.rename(columns={\"Value\": \"Undernourishment (%)\"})\n",
    "df_undernourishment = df_undernourishment.drop(columns=[\"Domain\", \"Element\", \"Item\"])"
   ]
  },
  {
   "cell_type": "code",
   "execution_count": 4,
   "metadata": {},
   "outputs": [],
   "source": [
    "df_comb_test = df_GDP.merge(df_GNI, on=[\"Area\", \"Year\"])\n",
    "\n",
    "df_comb = df_comb_test.merge(df_undernourishment, on=[\"Area\", \"Year\"])\n",
    "\n",
    "df_comb = df_comb.dropna()"
   ]
  },
  {
   "cell_type": "code",
   "execution_count": 5,
   "metadata": {},
   "outputs": [
    {
     "data": {
      "text/html": [
       "<div>\n",
       "<style scoped>\n",
       "    .dataframe tbody tr th:only-of-type {\n",
       "        vertical-align: middle;\n",
       "    }\n",
       "\n",
       "    .dataframe tbody tr th {\n",
       "        vertical-align: top;\n",
       "    }\n",
       "\n",
       "    .dataframe thead th {\n",
       "        text-align: right;\n",
       "    }\n",
       "</style>\n",
       "<table border=\"1\" class=\"dataframe\">\n",
       "  <thead>\n",
       "    <tr style=\"text-align: right;\">\n",
       "      <th></th>\n",
       "      <th>Area</th>\n",
       "      <th>Year</th>\n",
       "      <th>GDP (USD)</th>\n",
       "      <th>GNI (USD)</th>\n",
       "      <th>Undernourishment (%)</th>\n",
       "    </tr>\n",
       "  </thead>\n",
       "  <tbody>\n",
       "    <tr>\n",
       "      <th>0</th>\n",
       "      <td>Afghanistan</td>\n",
       "      <td>2001</td>\n",
       "      <td>3598.470576</td>\n",
       "      <td>3598.407195</td>\n",
       "      <td>47.8</td>\n",
       "    </tr>\n",
       "    <tr>\n",
       "      <th>1</th>\n",
       "      <td>Afghanistan</td>\n",
       "      <td>2002</td>\n",
       "      <td>4141.523943</td>\n",
       "      <td>4134.295420</td>\n",
       "      <td>45.6</td>\n",
       "    </tr>\n",
       "    <tr>\n",
       "      <th>2</th>\n",
       "      <td>Afghanistan</td>\n",
       "      <td>2003</td>\n",
       "      <td>4729.042179</td>\n",
       "      <td>4721.728965</td>\n",
       "      <td>40.6</td>\n",
       "    </tr>\n",
       "    <tr>\n",
       "      <th>3</th>\n",
       "      <td>Afghanistan</td>\n",
       "      <td>2004</td>\n",
       "      <td>5388.482107</td>\n",
       "      <td>5396.722695</td>\n",
       "      <td>38</td>\n",
       "    </tr>\n",
       "    <tr>\n",
       "      <th>4</th>\n",
       "      <td>Afghanistan</td>\n",
       "      <td>2005</td>\n",
       "      <td>6220.574147</td>\n",
       "      <td>6231.622214</td>\n",
       "      <td>36.1</td>\n",
       "    </tr>\n",
       "  </tbody>\n",
       "</table>\n",
       "</div>"
      ],
      "text/plain": [
       "          Area  Year    GDP (USD)    GNI (USD) Undernourishment (%)\n",
       "0  Afghanistan  2001  3598.470576  3598.407195                 47.8\n",
       "1  Afghanistan  2002  4141.523943  4134.295420                 45.6\n",
       "2  Afghanistan  2003  4729.042179  4721.728965                 40.6\n",
       "3  Afghanistan  2004  5388.482107  5396.722695                   38\n",
       "4  Afghanistan  2005  6220.574147  6231.622214                 36.1"
      ]
     },
     "execution_count": 5,
     "metadata": {},
     "output_type": "execute_result"
    }
   ],
   "source": [
    "df_comb.head()"
   ]
  },
  {
   "cell_type": "code",
   "execution_count": 6,
   "metadata": {},
   "outputs": [],
   "source": [
    "df_comb.to_csv(\"df_comb.csv\")"
   ]
  }
 ],
 "metadata": {
  "kernelspec": {
   "display_name": "Python 3.10.4 ('badass_daten_jungs')",
   "language": "python",
   "name": "python3"
  },
  "language_info": {
   "codemirror_mode": {
    "name": "ipython",
    "version": 3
   },
   "file_extension": ".py",
   "mimetype": "text/x-python",
   "name": "python",
   "nbconvert_exporter": "python",
   "pygments_lexer": "ipython3",
   "version": "3.10.4"
  },
  "orig_nbformat": 4,
  "vscode": {
   "interpreter": {
    "hash": "04b4966ba14cebf5fc76d0ebded7b40819f662999717cb10afed4f9bf0092b1e"
   }
  }
 },
 "nbformat": 4,
 "nbformat_minor": 2
}
