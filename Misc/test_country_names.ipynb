{
 "cells": [
  {
   "cell_type": "code",
   "execution_count": 1,
   "metadata": {},
   "outputs": [],
   "source": [
    "import ee\n",
    "import pandas as pd"
   ]
  },
  {
   "cell_type": "code",
   "execution_count": 2,
   "metadata": {},
   "outputs": [
    {
     "data": {
      "text/html": [
       "<p>To authorize access needed by Earth Engine, open the following\n",
       "        URL in a web browser and follow the instructions:</p>\n",
       "        <p><a href=https://code.earthengine.google.com/client-auth?scopes=https%3A//www.googleapis.com/auth/earthengine%20https%3A//www.googleapis.com/auth/devstorage.full_control&request_id=ZF-PvIzkj47nu-G9fI3Idpz7clp3gMqyWE1tKXyen_U&tc=82UwY6JVjUzWh3pZk8JQ_umGdsVzq0EN3_-u0ojUyL8&cc=QUr9TkYIM_kWnQX_gFhRbiUB4WA4gFAsu2QwVWpgp7M>https://code.earthengine.google.com/client-auth?scopes=https%3A//www.googleapis.com/auth/earthengine%20https%3A//www.googleapis.com/auth/devstorage.full_control&request_id=ZF-PvIzkj47nu-G9fI3Idpz7clp3gMqyWE1tKXyen_U&tc=82UwY6JVjUzWh3pZk8JQ_umGdsVzq0EN3_-u0ojUyL8&cc=QUr9TkYIM_kWnQX_gFhRbiUB4WA4gFAsu2QwVWpgp7M</a></p>\n",
       "        <p>The authorization workflow will generate a code, which you should paste in the box below.</p>\n",
       "        "
      ],
      "text/plain": [
       "<IPython.core.display.HTML object>"
      ]
     },
     "metadata": {},
     "output_type": "display_data"
    },
    {
     "name": "stdout",
     "output_type": "stream",
     "text": [
      "\n",
      "Successfully saved authorization token.\n"
     ]
    }
   ],
   "source": [
    "ee.Authenticate()\n",
    "ee.Initialize()"
   ]
  },
  {
   "cell_type": "code",
   "execution_count": 78,
   "metadata": {},
   "outputs": [],
   "source": [
    "def country_check(country):\n",
    "    location = ee.FeatureCollection(\"USDOS/LSIB_SIMPLE/2017\").filter(ee.Filter.eq(\"country_na\", str(country)))\n",
    "    if location.size().getInfo() > 0:\n",
    "        return str(\"working\")\n",
    "    else:\n",
    "        return str(\"error\")"
   ]
  },
  {
   "cell_type": "code",
   "execution_count": 79,
   "metadata": {},
   "outputs": [],
   "source": [
    "df_yield = pd.read_csv(\"yield_df.csv\")\n",
    "countries_with_doubles = df_yield[\"Area\"].tolist()\n",
    "seen = set()\n",
    "countries = []\n",
    "for item in countries_with_doubles:\n",
    "    if item not in seen:\n",
    "        seen.add(item)\n",
    "        countries.append(item)"
   ]
  },
  {
   "cell_type": "code",
   "execution_count": 80,
   "metadata": {},
   "outputs": [],
   "source": [
    "country_name_check = []\n",
    "country_index = []\n",
    "i = 0\n",
    "while i < len(countries):\n",
    "    result = country_check(country = countries[i])\n",
    "    country_name_check.append(result)\n",
    "    country_index.append(countries[i])\n",
    "    i += 1"
   ]
  },
  {
   "cell_type": "code",
   "execution_count": 81,
   "metadata": {},
   "outputs": [
    {
     "data": {
      "text/html": [
       "<div>\n",
       "<style scoped>\n",
       "    .dataframe tbody tr th:only-of-type {\n",
       "        vertical-align: middle;\n",
       "    }\n",
       "\n",
       "    .dataframe tbody tr th {\n",
       "        vertical-align: top;\n",
       "    }\n",
       "\n",
       "    .dataframe thead th {\n",
       "        text-align: right;\n",
       "    }\n",
       "</style>\n",
       "<table border=\"1\" class=\"dataframe\">\n",
       "  <thead>\n",
       "    <tr style=\"text-align: right;\">\n",
       "      <th></th>\n",
       "      <th>Country</th>\n",
       "      <th>Result</th>\n",
       "    </tr>\n",
       "  </thead>\n",
       "  <tbody>\n",
       "    <tr>\n",
       "      <th>0</th>\n",
       "      <td>Albania</td>\n",
       "      <td>working</td>\n",
       "    </tr>\n",
       "    <tr>\n",
       "      <th>1</th>\n",
       "      <td>Algeria</td>\n",
       "      <td>working</td>\n",
       "    </tr>\n",
       "    <tr>\n",
       "      <th>2</th>\n",
       "      <td>Angola</td>\n",
       "      <td>working</td>\n",
       "    </tr>\n",
       "    <tr>\n",
       "      <th>3</th>\n",
       "      <td>Argentina</td>\n",
       "      <td>working</td>\n",
       "    </tr>\n",
       "    <tr>\n",
       "      <th>4</th>\n",
       "      <td>Armenia</td>\n",
       "      <td>working</td>\n",
       "    </tr>\n",
       "  </tbody>\n",
       "</table>\n",
       "</div>"
      ],
      "text/plain": [
       "     Country   Result\n",
       "0    Albania  working\n",
       "1    Algeria  working\n",
       "2     Angola  working\n",
       "3  Argentina  working\n",
       "4    Armenia  working"
      ]
     },
     "execution_count": 81,
     "metadata": {},
     "output_type": "execute_result"
    }
   ],
   "source": [
    "df_country_check = pd.DataFrame()\n",
    "df_country_check[\"Country\"] = country_index\n",
    "df_country_check[\"Result\"] = country_name_check\n",
    "df_country_check.to_csv(\"check_countries_df.csv\")\n",
    "\n",
    "df_country_check.head()"
   ]
  }
 ],
 "metadata": {
  "kernelspec": {
   "display_name": "Python 3.10.4 ('badass_daten_jungs')",
   "language": "python",
   "name": "python3"
  },
  "language_info": {
   "codemirror_mode": {
    "name": "ipython",
    "version": 3
   },
   "file_extension": ".py",
   "mimetype": "text/x-python",
   "name": "python",
   "nbconvert_exporter": "python",
   "pygments_lexer": "ipython3",
   "version": "3.10.4"
  },
  "orig_nbformat": 4,
  "vscode": {
   "interpreter": {
    "hash": "04b4966ba14cebf5fc76d0ebded7b40819f662999717cb10afed4f9bf0092b1e"
   }
  }
 },
 "nbformat": 4,
 "nbformat_minor": 2
}
