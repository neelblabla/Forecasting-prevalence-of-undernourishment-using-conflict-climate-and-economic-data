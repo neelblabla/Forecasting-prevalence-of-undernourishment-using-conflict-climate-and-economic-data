{
 "cells": [
  {
   "cell_type": "code",
   "execution_count": 1,
   "metadata": {},
   "outputs": [],
   "source": [
    "import ee\n",
    "import pandas as pd"
   ]
  },
  {
   "cell_type": "code",
   "execution_count": 2,
   "metadata": {},
   "outputs": [
    {
     "data": {
      "text/html": [
       "<p>To authorize access needed by Earth Engine, open the following\n",
       "        URL in a web browser and follow the instructions:</p>\n",
       "        <p><a href=https://code.earthengine.google.com/client-auth?scopes=https%3A//www.googleapis.com/auth/earthengine%20https%3A//www.googleapis.com/auth/devstorage.full_control&request_id=LquTxFg9GeV1K4CQx6NOEttlVIn76-JQrx4yPDHAR-M&tc=Sa2uOq5TCChJryR2JarsHSP6tyqw7qA-HQxxQu-dRl8&cc=xCAA-Q0WVcP1OGSLGoGAiE6deica31NsSGB4T71T0Ko>https://code.earthengine.google.com/client-auth?scopes=https%3A//www.googleapis.com/auth/earthengine%20https%3A//www.googleapis.com/auth/devstorage.full_control&request_id=LquTxFg9GeV1K4CQx6NOEttlVIn76-JQrx4yPDHAR-M&tc=Sa2uOq5TCChJryR2JarsHSP6tyqw7qA-HQxxQu-dRl8&cc=xCAA-Q0WVcP1OGSLGoGAiE6deica31NsSGB4T71T0Ko</a></p>\n",
       "        <p>The authorization workflow will generate a code, which you should paste in the box below.</p>\n",
       "        "
      ],
      "text/plain": [
       "<IPython.core.display.HTML object>"
      ]
     },
     "metadata": {},
     "output_type": "display_data"
    },
    {
     "name": "stdout",
     "output_type": "stream",
     "text": [
      "\n",
      "Successfully saved authorization token.\n"
     ]
    }
   ],
   "source": [
    "# Initiate Goole Earth Engine\n",
    "ee.Authenticate()\n",
    "ee.Initialize()"
   ]
  },
  {
   "cell_type": "code",
   "execution_count": 3,
   "metadata": {},
   "outputs": [],
   "source": [
    "# Define Function That Check If We Can Get The Infomation of a Country\n",
    "def country_check(country):\n",
    "    location = ee.FeatureCollection(\"USDOS/LSIB_SIMPLE/2017\").filter(ee.Filter.eq(\"country_na\", str(country)))\n",
    "    if location.size().getInfo() > 0:\n",
    "        return str(\"working\")\n",
    "    else:\n",
    "        return str(\"error\")"
   ]
  },
  {
   "cell_type": "code",
   "execution_count": 6,
   "metadata": {},
   "outputs": [],
   "source": [
    "# Import yield.csv File\n",
    "df_yield = pd.read_csv(\"yield_df.csv\")\n",
    "# Check How Many Countries We Have In yield.csv File\n",
    "countries_with_doubles = df_yield[\"Area\"].tolist()\n",
    "seen = set()\n",
    "countries = []\n",
    "for item in countries_with_doubles:\n",
    "    if item not in seen:\n",
    "        seen.add(item)\n",
    "        countries.append(item)"
   ]
  },
  {
   "cell_type": "code",
   "execution_count": 11,
   "metadata": {},
   "outputs": [],
   "source": [
    "# Create a List of Countries We will Work With\n",
    "country_name_check = []\n",
    "country_index = []\n",
    "i = 0\n",
    "while i < len(countries):\n",
    "    result = country_check(country = countries[i])\n",
    "    country_name_check.append(result)\n",
    "    country_index.append(countries[i])\n",
    "    i += 1"
   ]
  },
  {
   "cell_type": "code",
   "execution_count": 12,
   "metadata": {},
   "outputs": [
    {
     "data": {
      "text/html": [
       "<div>\n",
       "<style scoped>\n",
       "    .dataframe tbody tr th:only-of-type {\n",
       "        vertical-align: middle;\n",
       "    }\n",
       "\n",
       "    .dataframe tbody tr th {\n",
       "        vertical-align: top;\n",
       "    }\n",
       "\n",
       "    .dataframe thead th {\n",
       "        text-align: right;\n",
       "    }\n",
       "</style>\n",
       "<table border=\"1\" class=\"dataframe\">\n",
       "  <thead>\n",
       "    <tr style=\"text-align: right;\">\n",
       "      <th></th>\n",
       "      <th>Country</th>\n",
       "      <th>Result</th>\n",
       "    </tr>\n",
       "  </thead>\n",
       "  <tbody>\n",
       "    <tr>\n",
       "      <th>0</th>\n",
       "      <td>Albania</td>\n",
       "      <td>working</td>\n",
       "    </tr>\n",
       "    <tr>\n",
       "      <th>1</th>\n",
       "      <td>Algeria</td>\n",
       "      <td>working</td>\n",
       "    </tr>\n",
       "    <tr>\n",
       "      <th>2</th>\n",
       "      <td>Angola</td>\n",
       "      <td>working</td>\n",
       "    </tr>\n",
       "    <tr>\n",
       "      <th>3</th>\n",
       "      <td>Argentina</td>\n",
       "      <td>working</td>\n",
       "    </tr>\n",
       "    <tr>\n",
       "      <th>4</th>\n",
       "      <td>Armenia</td>\n",
       "      <td>working</td>\n",
       "    </tr>\n",
       "  </tbody>\n",
       "</table>\n",
       "</div>"
      ],
      "text/plain": [
       "     Country   Result\n",
       "0    Albania  working\n",
       "1    Algeria  working\n",
       "2     Angola  working\n",
       "3  Argentina  working\n",
       "4    Armenia  working"
      ]
     },
     "execution_count": 12,
     "metadata": {},
     "output_type": "execute_result"
    }
   ],
   "source": [
    "# Create a Data Frame with Country and If it Works\n",
    "df_country_check = pd.DataFrame()\n",
    "df_country_check[\"Country\"] = country_index\n",
    "df_country_check[\"Result\"] = country_name_check\n",
    "df_country_check.to_csv(\"check_countries_df.csv\")\n",
    "\n",
    "df_country_check.head()"
   ]
  }
 ],
 "metadata": {
  "kernelspec": {
   "display_name": "Python 3.9.7 ('base')",
   "language": "python",
   "name": "python3"
  },
  "language_info": {
   "codemirror_mode": {
    "name": "ipython",
    "version": 3
   },
   "file_extension": ".py",
   "mimetype": "text/x-python",
   "name": "python",
   "nbconvert_exporter": "python",
   "pygments_lexer": "ipython3",
   "version": "3.9.7"
  },
  "orig_nbformat": 4,
  "vscode": {
   "interpreter": {
    "hash": "a322c5351b42b2f3c362c81cc5a34aa8242759b5218ce8bf44420f70b6af1b12"
   }
  }
 },
 "nbformat": 4,
 "nbformat_minor": 2
}
