{
 "cells": [
  {
   "cell_type": "code",
   "execution_count": 1,
   "metadata": {},
   "outputs": [],
   "source": [
    "import ee\n",
    "import pandas as pd"
   ]
  },
  {
   "cell_type": "code",
   "execution_count": 2,
   "metadata": {},
   "outputs": [
    {
     "data": {
      "text/html": [
       "<p>To authorize access needed by Earth Engine, open the following\n",
       "        URL in a web browser and follow the instructions:</p>\n",
       "        <p><a href=https://code.earthengine.google.com/client-auth?scopes=https%3A//www.googleapis.com/auth/earthengine%20https%3A//www.googleapis.com/auth/devstorage.full_control&request_id=Dh636S_yZhium-t8QOyRP51obKqI5FXNWr4pzMue-pw&tc=6BnsUjPexgCLG1OWDu5Xe20LzBcwzS3puFZGHwuEbdU&cc=161aTz0Ai-ZN48TXq9b2mvC1LH9ok_0LP8QvOLWZJrA>https://code.earthengine.google.com/client-auth?scopes=https%3A//www.googleapis.com/auth/earthengine%20https%3A//www.googleapis.com/auth/devstorage.full_control&request_id=Dh636S_yZhium-t8QOyRP51obKqI5FXNWr4pzMue-pw&tc=6BnsUjPexgCLG1OWDu5Xe20LzBcwzS3puFZGHwuEbdU&cc=161aTz0Ai-ZN48TXq9b2mvC1LH9ok_0LP8QvOLWZJrA</a></p>\n",
       "        <p>The authorization workflow will generate a code, which you should paste in the box below.</p>\n",
       "        "
      ],
      "text/plain": [
       "<IPython.core.display.HTML object>"
      ]
     },
     "metadata": {},
     "output_type": "display_data"
    },
    {
     "name": "stdout",
     "output_type": "stream",
     "text": [
      "\n",
      "Successfully saved authorization token.\n"
     ]
    }
   ],
   "source": [
    "ee.Authenticate()\n",
    "ee.Initialize()"
   ]
  },
  {
   "cell_type": "code",
   "execution_count": 3,
   "metadata": {},
   "outputs": [],
   "source": [
    "def country_check(country):\n",
    "    location = ee.FeatureCollection(\"FAO/GAUL_SIMPLIFIED_500m/2015/level0\").filter(ee.Filter.eq(\"ADM0_NAME\", str(country)))\n",
    "    if location.size().getInfo() > 0:\n",
    "        Area = location.geometry().area()\n",
    "        AreaSqKm = ee.Number(Area).divide(1e6).round().getInfo()\n",
    "        if AreaSqKm < 9e6:\n",
    "            return str(\"working\")\n",
    "        else:\n",
    "            return str(\"size error\")\n",
    "    else:\n",
    "        return str(\"name error\")"
   ]
  },
  {
   "cell_type": "code",
   "execution_count": 4,
   "metadata": {},
   "outputs": [],
   "source": [
    "df = pd.read_csv(\"country_time_index.csv\")\n",
    "countries_with_doubles = df[\"Area\"].tolist()\n",
    "seen = set()\n",
    "countries = []\n",
    "for item in countries_with_doubles:\n",
    "    if item not in seen:\n",
    "        seen.add(item)\n",
    "        countries.append(item)"
   ]
  },
  {
   "cell_type": "code",
   "execution_count": 5,
   "metadata": {},
   "outputs": [],
   "source": [
    "check_result = []\n",
    "country_index = []\n",
    "i = 0\n",
    "while i < len(countries):\n",
    "    result = country_check(country = countries[i])\n",
    "    check_result.append(result)\n",
    "    country_index.append(countries[i])\n",
    "    i += 1"
   ]
  },
  {
   "cell_type": "code",
   "execution_count": 6,
   "metadata": {},
   "outputs": [],
   "source": [
    "df_country_check = pd.DataFrame()\n",
    "df_country_check[\"Area\"] = country_index\n",
    "df_country_check[\"ee check\"] = check_result\n",
    "df_country_check.to_csv(\"ee_country_check.csv\")"
   ]
  },
  {
   "cell_type": "code",
   "execution_count": 8,
   "metadata": {},
   "outputs": [],
   "source": [
    "ee_collection = df_country_check[df_country_check[\"ee check\"].str.contains(\"working\") == True\n",
    "].reset_index().drop(columns=[\"index\", \"ee check\"])\n",
    "\n",
    "ee_collection.to_csv(\"ee_collection_dataset.csv\")"
   ]
  }
 ],
 "metadata": {
  "kernelspec": {
   "display_name": "Python 3.10.4 ('badass_daten_jungs')",
   "language": "python",
   "name": "python3"
  },
  "language_info": {
   "codemirror_mode": {
    "name": "ipython",
    "version": 3
   },
   "file_extension": ".py",
   "mimetype": "text/x-python",
   "name": "python",
   "nbconvert_exporter": "python",
   "pygments_lexer": "ipython3",
   "version": "3.10.4"
  },
  "orig_nbformat": 4,
  "vscode": {
   "interpreter": {
    "hash": "04b4966ba14cebf5fc76d0ebded7b40819f662999717cb10afed4f9bf0092b1e"
   }
  }
 },
 "nbformat": 4,
 "nbformat_minor": 2
}
