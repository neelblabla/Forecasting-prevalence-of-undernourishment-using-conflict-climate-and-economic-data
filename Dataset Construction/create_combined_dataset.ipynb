{
 "cells": [
  {
   "cell_type": "markdown",
   "metadata": {},
   "source": [
    "Needs Update due to new country name codes. These prevent data loss due to not recognised names in other data sets."
   ]
  },
  {
   "cell_type": "code",
   "execution_count": 1,
   "metadata": {},
   "outputs": [],
   "source": [
    "import pandas as pd"
   ]
  },
  {
   "cell_type": "code",
   "execution_count": 87,
   "metadata": {},
   "outputs": [],
   "source": [
    "#output (y)\n",
    "df_undernourishment = pd.read_csv(\"undernourishment_data.csv\")\n",
    "#input (X)\n",
    "#gloabl conflicts\n",
    "#df_conflict = pd.read_csv(\"conflict_data_raw.csv\", low_memory=False) Note that file is too big, so its not on github\n",
    "#climate\n",
    "#df_ndvi = pd.read_csv(\"ndvi_data.csv\")\n",
    "#economics\n",
    "df_GDP = pd.read_csv(\"GDP_data.csv\")\n",
    "df_GNI = pd.read_csv(\"GNI_data.csv\")"
   ]
  },
  {
   "cell_type": "code",
   "execution_count": 88,
   "metadata": {},
   "outputs": [],
   "source": [
    "keep_columns = [\"year\", \"country\", \"best\"]\n",
    "df_conflict = df_conflict[keep_columns].rename(columns={\"country\": \"Area\", \"year\": \"Year\", \"best\": \"Casualties\"}\n",
    ").loc[(df_conflict[\"year\"] >= 2001) & (df_conflict[\"year\"] <= 2020)\n",
    "].groupby([\"Area\", \"Year\"]).sum()\n",
    "df_conflict.to_csv(\"conflict_data.csv\")"
   ]
  },
  {
   "cell_type": "code",
   "execution_count": 34,
   "metadata": {},
   "outputs": [],
   "source": [
    "df_GDP = df_GDP.rename(columns={\"Value\": \"GDP (MUSD)\"}\n",
    ").drop(columns=[\"Domain\", \"Element\", \"Item\"])\n",
    "\n",
    "df_GNI = df_GNI.rename(columns={\"Value\": \"GNI (MUSD)\"}\n",
    ").drop(columns=[\"Domain\", \"Element\", \"Item\"])\n",
    "\n",
    "df_undernourishment = df_undernourishment.rename(columns={\"Value\": \"Undernourishment (%)\"}\n",
    ").drop(columns=[\"Domain\", \"Element\", \"Item\"])"
   ]
  },
  {
   "cell_type": "code",
   "execution_count": 35,
   "metadata": {},
   "outputs": [],
   "source": [
    "df_comb_FAO = df_GDP.merge(df_GNI, on=[\"Area\", \"Year\"]\n",
    ").merge(df_undernourishment, on=[\"Area\", \"Year\"]).dropna()"
   ]
  },
  {
   "cell_type": "code",
   "execution_count": 37,
   "metadata": {},
   "outputs": [
    {
     "data": {
      "text/html": [
       "<div>\n",
       "<style scoped>\n",
       "    .dataframe tbody tr th:only-of-type {\n",
       "        vertical-align: middle;\n",
       "    }\n",
       "\n",
       "    .dataframe tbody tr th {\n",
       "        vertical-align: top;\n",
       "    }\n",
       "\n",
       "    .dataframe thead th {\n",
       "        text-align: right;\n",
       "    }\n",
       "</style>\n",
       "<table border=\"1\" class=\"dataframe\">\n",
       "  <thead>\n",
       "    <tr style=\"text-align: right;\">\n",
       "      <th></th>\n",
       "      <th>Area</th>\n",
       "      <th>Year</th>\n",
       "      <th>GDP (MUSD)</th>\n",
       "      <th>GNI (MUSD)</th>\n",
       "      <th>Undernourishment (%)</th>\n",
       "      <th>Casualties</th>\n",
       "    </tr>\n",
       "  </thead>\n",
       "  <tbody>\n",
       "    <tr>\n",
       "      <th>0</th>\n",
       "      <td>Afghanistan</td>\n",
       "      <td>2001</td>\n",
       "      <td>3598.470576</td>\n",
       "      <td>3598.407195</td>\n",
       "      <td>47.8</td>\n",
       "      <td>2328</td>\n",
       "    </tr>\n",
       "    <tr>\n",
       "      <th>1</th>\n",
       "      <td>Afghanistan</td>\n",
       "      <td>2002</td>\n",
       "      <td>4141.523943</td>\n",
       "      <td>4134.295420</td>\n",
       "      <td>45.6</td>\n",
       "      <td>30</td>\n",
       "    </tr>\n",
       "    <tr>\n",
       "      <th>2</th>\n",
       "      <td>Afghanistan</td>\n",
       "      <td>2003</td>\n",
       "      <td>4729.042179</td>\n",
       "      <td>4721.728965</td>\n",
       "      <td>40.6</td>\n",
       "      <td>32</td>\n",
       "    </tr>\n",
       "    <tr>\n",
       "      <th>3</th>\n",
       "      <td>Afghanistan</td>\n",
       "      <td>2003</td>\n",
       "      <td>4729.042179</td>\n",
       "      <td>4721.728965</td>\n",
       "      <td>40.6</td>\n",
       "      <td>628</td>\n",
       "    </tr>\n",
       "    <tr>\n",
       "      <th>4</th>\n",
       "      <td>Afghanistan</td>\n",
       "      <td>2004</td>\n",
       "      <td>5388.482107</td>\n",
       "      <td>5396.722695</td>\n",
       "      <td>38</td>\n",
       "      <td>711</td>\n",
       "    </tr>\n",
       "  </tbody>\n",
       "</table>\n",
       "</div>"
      ],
      "text/plain": [
       "          Area  Year   GDP (MUSD)   GNI (MUSD) Undernourishment (%)  \\\n",
       "0  Afghanistan  2001  3598.470576  3598.407195                 47.8   \n",
       "1  Afghanistan  2002  4141.523943  4134.295420                 45.6   \n",
       "2  Afghanistan  2003  4729.042179  4721.728965                 40.6   \n",
       "3  Afghanistan  2003  4729.042179  4721.728965                 40.6   \n",
       "4  Afghanistan  2004  5388.482107  5396.722695                   38   \n",
       "\n",
       "   Casualties  \n",
       "0        2328  \n",
       "1          30  \n",
       "2          32  \n",
       "3         628  \n",
       "4         711  "
      ]
     },
     "execution_count": 37,
     "metadata": {},
     "output_type": "execute_result"
    }
   ],
   "source": [
    "df_test = df_comb_FAO.merge(df_conflict, on=[\"Area\", \"Year\"])\n",
    "df_test.to_csv(\"test_crisis.csv\")\n",
    "df_test.head()"
   ]
  },
  {
   "cell_type": "code",
   "execution_count": 5,
   "metadata": {},
   "outputs": [],
   "source": [
    "df_ee_check = pd.read_csv(\"ee_country_check.csv\")"
   ]
  },
  {
   "cell_type": "code",
   "execution_count": 6,
   "metadata": {},
   "outputs": [
    {
     "data": {
      "text/html": [
       "<div>\n",
       "<style scoped>\n",
       "    .dataframe tbody tr th:only-of-type {\n",
       "        vertical-align: middle;\n",
       "    }\n",
       "\n",
       "    .dataframe tbody tr th {\n",
       "        vertical-align: top;\n",
       "    }\n",
       "\n",
       "    .dataframe thead th {\n",
       "        text-align: right;\n",
       "    }\n",
       "</style>\n",
       "<table border=\"1\" class=\"dataframe\">\n",
       "  <thead>\n",
       "    <tr style=\"text-align: right;\">\n",
       "      <th></th>\n",
       "      <th>Area</th>\n",
       "      <th>Year</th>\n",
       "      <th>GDP (MUSD)</th>\n",
       "      <th>GNI (MUSD)</th>\n",
       "      <th>Undernourishment (%)</th>\n",
       "    </tr>\n",
       "  </thead>\n",
       "  <tbody>\n",
       "    <tr>\n",
       "      <th>0</th>\n",
       "      <td>Afghanistan</td>\n",
       "      <td>2001</td>\n",
       "      <td>3598.470576</td>\n",
       "      <td>3598.407195</td>\n",
       "      <td>47.8</td>\n",
       "    </tr>\n",
       "    <tr>\n",
       "      <th>1</th>\n",
       "      <td>Afghanistan</td>\n",
       "      <td>2002</td>\n",
       "      <td>4141.523943</td>\n",
       "      <td>4134.295420</td>\n",
       "      <td>45.6</td>\n",
       "    </tr>\n",
       "    <tr>\n",
       "      <th>2</th>\n",
       "      <td>Afghanistan</td>\n",
       "      <td>2003</td>\n",
       "      <td>4729.042179</td>\n",
       "      <td>4721.728965</td>\n",
       "      <td>40.6</td>\n",
       "    </tr>\n",
       "    <tr>\n",
       "      <th>3</th>\n",
       "      <td>Afghanistan</td>\n",
       "      <td>2004</td>\n",
       "      <td>5388.482107</td>\n",
       "      <td>5396.722695</td>\n",
       "      <td>38</td>\n",
       "    </tr>\n",
       "    <tr>\n",
       "      <th>4</th>\n",
       "      <td>Afghanistan</td>\n",
       "      <td>2005</td>\n",
       "      <td>6220.574147</td>\n",
       "      <td>6231.622214</td>\n",
       "      <td>36.1</td>\n",
       "    </tr>\n",
       "  </tbody>\n",
       "</table>\n",
       "</div>"
      ],
      "text/plain": [
       "          Area  Year   GDP (MUSD)   GNI (MUSD) Undernourishment (%)\n",
       "0  Afghanistan  2001  3598.470576  3598.407195                 47.8\n",
       "1  Afghanistan  2002  4141.523943  4134.295420                 45.6\n",
       "2  Afghanistan  2003  4729.042179  4721.728965                 40.6\n",
       "3  Afghanistan  2004  5388.482107  5396.722695                   38\n",
       "4  Afghanistan  2005  6220.574147  6231.622214                 36.1"
      ]
     },
     "execution_count": 6,
     "metadata": {},
     "output_type": "execute_result"
    }
   ],
   "source": [
    "df_comb_ee = df_comb_FAO.merge(df_ee_check, on=[\"Area\"])\n",
    "df_comb_ee = df_comb_ee[df_comb_ee[\"ee check\"].str.contains(\"working\") == True\n",
    "].reset_index().drop(columns=[\"index\", \"Unnamed: 0\", \"ee check\"])\n",
    "df_comb_ee.to_csv(\"df_comb_ee.csv\")\n",
    "\n",
    "df_comb_ee.head()"
   ]
  },
  {
   "cell_type": "code",
   "execution_count": 7,
   "metadata": {},
   "outputs": [
    {
     "name": "stdout",
     "output_type": "stream",
     "text": [
      "<class 'pandas.core.frame.DataFrame'>\n",
      "RangeIndex: 2877 entries, 0 to 2876\n",
      "Data columns (total 5 columns):\n",
      " #   Column                Non-Null Count  Dtype  \n",
      "---  ------                --------------  -----  \n",
      " 0   Area                  2877 non-null   object \n",
      " 1   Year                  2877 non-null   int64  \n",
      " 2   GDP (MUSD)            2877 non-null   float64\n",
      " 3   GNI (MUSD)            2877 non-null   float64\n",
      " 4   Undernourishment (%)  2877 non-null   object \n",
      "dtypes: float64(2), int64(1), object(2)\n",
      "memory usage: 112.5+ KB\n"
     ]
    }
   ],
   "source": [
    "df_comb_ee.info()"
   ]
  },
  {
   "cell_type": "code",
   "execution_count": 8,
   "metadata": {},
   "outputs": [],
   "source": [
    "#df.to_csv(\"combined_dataset.csv\")\n",
    "\n",
    "#print(df.info())\n",
    "#print(df.head())"
   ]
  }
 ],
 "metadata": {
  "kernelspec": {
   "display_name": "Python 3.10.4 ('badass_daten_jungs')",
   "language": "python",
   "name": "python3"
  },
  "language_info": {
   "codemirror_mode": {
    "name": "ipython",
    "version": 3
   },
   "file_extension": ".py",
   "mimetype": "text/x-python",
   "name": "python",
   "nbconvert_exporter": "python",
   "pygments_lexer": "ipython3",
   "version": "3.10.4"
  },
  "orig_nbformat": 4,
  "vscode": {
   "interpreter": {
    "hash": "04b4966ba14cebf5fc76d0ebded7b40819f662999717cb10afed4f9bf0092b1e"
   }
  }
 },
 "nbformat": 4,
 "nbformat_minor": 2
}
