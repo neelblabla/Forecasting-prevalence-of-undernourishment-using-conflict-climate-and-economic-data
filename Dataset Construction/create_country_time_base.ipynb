{
 "cells": [
  {
   "cell_type": "code",
   "execution_count": 1,
   "metadata": {},
   "outputs": [],
   "source": [
    "import pandas as pd"
   ]
  },
  {
   "cell_type": "code",
   "execution_count": 2,
   "metadata": {},
   "outputs": [],
   "source": [
    "country_data = pd.read_csv(\"country_name_data.csv\")\n",
    "\n",
    "base_data = pd.read_csv(\"undernourishment_data.csv\")"
   ]
  },
  {
   "cell_type": "code",
   "execution_count": 3,
   "metadata": {},
   "outputs": [],
   "source": [
    "#keep = [\"GAUL\", \"M49\", \"official_name_en\"] \n",
    "country_data = country_data[[\"GAUL\", \"M49\", \"official_name_en\"\n",
    "]].rename(columns={\"official_name_en\": \"Area\"}).dropna()\n",
    "country_data[\"M49\"] = country_data[\"M49\"].astype('int64')"
   ]
  },
  {
   "cell_type": "code",
   "execution_count": 4,
   "metadata": {},
   "outputs": [],
   "source": [
    "base_data = base_data[[\"Area Code (M49)\", \"Year\", \"Value\"\n",
    "]].rename(columns={\"Area Code (M49)\": \"M49\", \"Value\": \"Undernourishment (%)\"})"
   ]
  },
  {
   "cell_type": "code",
   "execution_count": 5,
   "metadata": {},
   "outputs": [],
   "source": [
    "base_data = base_data.merge(country_data, on=\"M49\").dropna()\n",
    "base_data = base_data[[\"GAUL\", \"M49\", \"Area\", \"Year\"]]\n",
    "base_data.to_csv(\"country_time_base.csv\")"
   ]
  }
 ],
 "metadata": {
  "kernelspec": {
   "display_name": "Python 3.10.4 ('badass_daten_jungs')",
   "language": "python",
   "name": "python3"
  },
  "language_info": {
   "codemirror_mode": {
    "name": "ipython",
    "version": 3
   },
   "file_extension": ".py",
   "mimetype": "text/x-python",
   "name": "python",
   "nbconvert_exporter": "python",
   "pygments_lexer": "ipython3",
   "version": "3.10.4"
  },
  "orig_nbformat": 4,
  "vscode": {
   "interpreter": {
    "hash": "04b4966ba14cebf5fc76d0ebded7b40819f662999717cb10afed4f9bf0092b1e"
   }
  }
 },
 "nbformat": 4,
 "nbformat_minor": 2
}
